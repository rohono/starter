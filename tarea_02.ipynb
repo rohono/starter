{
  "nbformat": 4,
  "nbformat_minor": 0,
  "metadata": {
    "colab": {
      "provenance": [],
      "authorship_tag": "ABX9TyPpMkHWv1e3wQG1N2eKPR2A",
      "include_colab_link": true
    },
    "kernelspec": {
      "name": "python3",
      "display_name": "Python 3"
    },
    "language_info": {
      "name": "python"
    }
  },
  "cells": [
    {
      "cell_type": "markdown",
      "metadata": {
        "id": "view-in-github",
        "colab_type": "text"
      },
      "source": [
        "<a href=\"https://colab.research.google.com/github/rohono/starter/blob/main/tarea_02.ipynb\" target=\"_parent\"><img src=\"https://colab.research.google.com/assets/colab-badge.svg\" alt=\"Open In Colab\"/></a>"
      ]
    },
    {
      "cell_type": "code",
      "execution_count": null,
      "metadata": {
        "colab": {
          "base_uri": "https://localhost:8080/"
        },
        "id": "YmkIe-M0jA6E",
        "outputId": "c235e5d0-c0f0-49f3-b6d8-6fe883a1b8eb"
      },
      "outputs": [
        {
          "output_type": "stream",
          "name": "stdout",
          "text": [
            "1\n",
            "2\n",
            "3\n",
            "4\n",
            "5\n",
            "6\n",
            "7\n",
            "8\n",
            "9\n",
            "10\n",
            "11\n",
            "12\n",
            "13\n",
            "14\n",
            "15\n",
            "16\n",
            "17\n",
            "18\n",
            "19\n",
            "20\n",
            "21\n",
            "22\n",
            "23\n",
            "24\n",
            "25\n",
            "26\n",
            "27\n",
            "28\n",
            "29\n",
            "30\n",
            "31\n",
            "32\n",
            "33\n",
            "34\n",
            "35\n",
            "36\n",
            "37\n",
            "38\n",
            "39\n",
            "40\n",
            "41\n",
            "42\n",
            "43\n",
            "44\n",
            "45\n",
            "46\n",
            "47\n",
            "48\n",
            "49\n",
            "50\n",
            "51\n",
            "52\n",
            "53\n",
            "54\n",
            "55\n",
            "56\n",
            "57\n",
            "58\n",
            "59\n",
            "60\n",
            "61\n",
            "62\n",
            "63\n",
            "64\n",
            "65\n",
            "66\n",
            "67\n",
            "68\n",
            "69\n",
            "70\n",
            "71\n",
            "72\n",
            "73\n",
            "74\n",
            "75\n",
            "76\n",
            "77\n",
            "78\n",
            "79\n",
            "80\n",
            "81\n",
            "82\n",
            "83\n",
            "84\n",
            "85\n",
            "86\n",
            "87\n",
            "88\n",
            "89\n",
            "90\n",
            "91\n",
            "92\n",
            "93\n",
            "94\n",
            "95\n",
            "96\n",
            "97\n",
            "98\n",
            "99\n",
            "100\n"
          ]
        }
      ],
      "source": [
        "# 0 al 99 +1\n",
        "\n",
        "for x in range(100):\n",
        "  print(x+1)"
      ]
    },
    {
      "cell_type": "code",
      "source": [],
      "metadata": {
        "id": "xudGV-Wwnw-M"
      },
      "execution_count": null,
      "outputs": []
    },
    {
      "cell_type": "code",
      "source": [
        "# 0 al 99 + 1 y divisible (%) por 3\n",
        "\n",
        "for x in range(100):\n",
        "\n",
        "  if (x+1) % 3 == 0:\n",
        "    print(x+1)"
      ],
      "metadata": {
        "colab": {
          "base_uri": "https://localhost:8080/"
        },
        "id": "mEraBRvlkxnp",
        "outputId": "8c8c50ca-14bc-4011-aad5-7964a37de841"
      },
      "execution_count": null,
      "outputs": [
        {
          "output_type": "stream",
          "name": "stdout",
          "text": [
            "3\n",
            "6\n",
            "9\n",
            "12\n",
            "15\n",
            "18\n",
            "21\n",
            "24\n",
            "27\n",
            "30\n",
            "33\n",
            "36\n",
            "39\n",
            "42\n",
            "45\n",
            "48\n",
            "51\n",
            "54\n",
            "57\n",
            "60\n",
            "63\n",
            "66\n",
            "69\n",
            "72\n",
            "75\n",
            "78\n",
            "81\n",
            "84\n",
            "87\n",
            "90\n",
            "93\n",
            "96\n",
            "99\n"
          ]
        }
      ]
    },
    {
      "cell_type": "code",
      "source": [
        "# Número 1 es seleccionado por el usuario\n",
        "# Número 2 es 5\n",
        "# Suma es la suma de los dos números\n",
        "# Resultado es la suma mayor o menor a 100 o mayor a 150\n",
        "\n",
        "numero_1 = int(input(\"Ingrese un número\"))\n",
        "numero_2 = 5\n",
        "suma = numero_1 + numero_2\n",
        "resultado = \"\"\n",
        "\n",
        "if(suma<100):\n",
        "  resultado = \"menor a 100\"\n",
        "elif(suma>=100 and suma<150):\n",
        "  resultado = \"mayor a 100\"\n",
        "elif(suma>=150):\n",
        "  resultado = \"mayor a 150\"\n",
        "\n",
        "print(resultado)"
      ],
      "metadata": {
        "colab": {
          "base_uri": "https://localhost:8080/"
        },
        "id": "XRgB357-nPa1",
        "outputId": "f151c19f-a2da-431f-8adf-b9f6c5b888b2"
      },
      "execution_count": 15,
      "outputs": [
        {
          "output_type": "stream",
          "name": "stdout",
          "text": [
            "Ingrese un número55\n",
            "menor a 100\n"
          ]
        }
      ]
    },
    {
      "cell_type": "code",
      "source": [
        "# Menor de edad y no te gusta programar\n",
        "# Menor de edad y te gusta programar\n",
        "# Mayor de edad y te gusta programar\n",
        "# Mayor de edad y no te gusta programar\n",
        "\n",
        "Edad = int(input(\"Ingrese un edad\"))\n",
        "Gusta_programar = (input(\"¿Te gusta programar? sí/no\"))\n",
        "Resultado = \"\"\n",
        "\n",
        "if(Edad<18 and Gusta_programar==\"sí\") :\n",
        "  Resultado = \"Eres menor de edad y te gusta programar\"\n",
        "elif(Edad<18 and Gusta_programar==\"no\") :\n",
        "  Resultado = \"Eres menor de edad y no te gusta programar\"\n",
        "elif(Edad>=18 and Gusta_programar==\"sí\") :\n",
        "  Resultado = \"Eres mayor de edad y te gusta programar\"\n",
        "elif(Edad>=18 and Gusta_programar==\"no\") :\n",
        "  Resultado = \"Eres mayor de edad y no te gusta programar\"\n",
        "\n",
        "  print(Resultado)\n"
      ],
      "metadata": {
        "colab": {
          "base_uri": "https://localhost:8080/"
        },
        "id": "gKPwy2WHEfZG",
        "outputId": "fe557b87-c4e5-4764-d49a-5ebb59f8c07a"
      },
      "execution_count": null,
      "outputs": [
        {
          "output_type": "stream",
          "name": "stdout",
          "text": [
            "Ingrese un edad22\n",
            "¿Te gusta programar? sí/nono\n",
            "Eres mayor de edad y no te gusta programar\n"
          ]
        }
      ]
    }
  ]
}